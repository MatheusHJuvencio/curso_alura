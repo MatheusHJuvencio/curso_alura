{
 "cells": [
  {
   "cell_type": "markdown",
   "id": "e92473fc-9169-4ffc-a01d-59d8f6de3386",
   "metadata": {},
   "source": [
    "#### Exercício de variaveis categóricas\n",
    "##### Classificação de buscas"
   ]
  },
  {
   "cell_type": "code",
   "execution_count": 1,
   "id": "a4229f0a-5abc-4e97-8066-1ab4d823eef5",
   "metadata": {},
   "outputs": [],
   "source": [
    "import csv\n",
    "\n",
    "def carregar_buscas():\n",
    "    x = []\n",
    "    y = []\n",
    "    # Abrir o arquivo e lê-lo\n",
    "    arquivo = open('curso.csv', 'r')\n",
    "    leitor = csv.reader(arquivo)\n",
    "    next(leitor)\n",
    "    for home, busca, logado, comprou in leitor:\n",
    "        dado = [int(home), busca, int(logado)]\n",
    "        x.append(dado)\n",
    "        y.append(int(comprou))\n",
    "    return x, y\n",
    "    \n",
    "    "
   ]
  },
  {
   "cell_type": "code",
   "execution_count": 5,
   "id": "122ca166-06df-4dd2-b9dc-32dc1dcf987e",
   "metadata": {},
   "outputs": [],
   "source": [
    "x, y = carregar_buscas()\n"
   ]
  },
  {
   "cell_type": "code",
   "execution_count": 21,
   "id": "6b3f2dd5-5ba1-4179-b68d-1bd2e43849a9",
   "metadata": {},
   "outputs": [],
   "source": [
    "import pandas as pd\n",
    "\n",
    "dados = pd.read_csv('curso.csv')\n",
    "# Adicionando as colunas a feature x\n",
    "x_df = dados[['home', 'busca','logado']]\n",
    "# Adicionando a coluna no que buscamos y\n",
    "y_df = dados['comprou']"
   ]
  },
  {
   "cell_type": "code",
   "execution_count": 25,
   "id": "0a22a46d-4af1-4af1-8d93-342585e287cc",
   "metadata": {},
   "outputs": [],
   "source": [
    "# Como queremos trocar a variavel busca que é uma string\n",
    "# em três colunas de varaiveis categorias, utilizamos\n",
    "# o dummie, com a função get_dummies\n",
    "\n",
    "xdummies = pd.get_dummies(x_df)\n",
    "# Tranformar em array para o teste de classificação\n",
    "\n",
    "x = xdummies.values\n",
    "y = y_df.values\n",
    "\n"
   ]
  },
  {
   "cell_type": "code",
   "execution_count": 28,
   "id": "8aba0263-fe99-471c-9eb3-01d8fd9501d9",
   "metadata": {},
   "outputs": [
    {
     "name": "stdout",
     "output_type": "stream",
     "text": [
      "Taxa de acerto base: 83.20%\n",
      "Taxa de acerto do algoritmo: 82.00%\n",
      "82.0\n",
      "100\n"
     ]
    }
   ],
   "source": [
    "porcentagem_treino = 0.9\n",
    "\n",
    "tamanho_de_treino = int(porcentagem_treino * len(y))\n",
    "tamanho_de_teste = len(y) - tamanho_de_treino\n",
    "\n",
    "treino_dados = x[:tamanho_de_treino]\n",
    "treino_marcacoes = y[:tamanho_de_treino]\n",
    "\n",
    "teste_dados = x[-tamanho_de_teste:]\n",
    "teste_marcacoes = y[-tamanho_de_teste:]\n",
    "\n",
    "from sklearn.naive_bayes import MultinomialNB\n",
    "modelo = MultinomialNB()\n",
    "modelo.fit(treino_dados, treino_marcacoes)\n",
    "\n",
    "resultado = modelo.predict(teste_dados)\n",
    "\n",
    "diferencas = resultado - teste_marcacoes\n",
    "\n",
    "acertos = [d for d in diferencas if d == 0]\n",
    "total_de_acertos = len(acertos)\n",
    "total_de_elementos = len(teste_dados)\n",
    "\n",
    "taxa_de_acerto = 100.0 * total_de_acertos / total_de_elementos\n",
    "\n",
    "acerto_de_um = sum(y)\n",
    "acerto_de_zero = len(y) - acerto_de_um\n",
    "taxa_de_acerto_base = 100.0 * max(acerto_de_um, acerto_de_zero) / len(y)\n",
    "print(\"Taxa de acerto base: %.2f%%\" % taxa_de_acerto_base)\n",
    "# restante do código\n",
    "print(\"Taxa de acerto do algoritmo: %.2f%%\" % taxa_de_acerto)\n",
    "print(taxa_de_acerto)\n",
    "print(total_de_elementos)"
   ]
  },
  {
   "cell_type": "code",
   "execution_count": null,
   "id": "1ecbf371-0c78-4cbc-af6b-a64157fe26c8",
   "metadata": {},
   "outputs": [],
   "source": []
  }
 ],
 "metadata": {
  "kernelspec": {
   "display_name": "Python 3",
   "language": "python",
   "name": "python3"
  },
  "language_info": {
   "codemirror_mode": {
    "name": "ipython",
    "version": 3
   },
   "file_extension": ".py",
   "mimetype": "text/x-python",
   "name": "python",
   "nbconvert_exporter": "python",
   "pygments_lexer": "ipython3",
   "version": "3.8.8"
  }
 },
 "nbformat": 4,
 "nbformat_minor": 5
}
