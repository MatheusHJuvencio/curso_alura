{
 "cells": [
  {
   "cell_type": "markdown",
   "id": "fa28cc63-793b-4c60-a887-d980bf51ec95",
   "metadata": {},
   "source": [
    "### Exercício de classificação\n",
    "#### Se irá comprar ou não"
   ]
  },
  {
   "cell_type": "markdown",
   "id": "02ff0fb0-fa84-46f1-a03b-aa4e9a60d807",
   "metadata": {},
   "source": [
    "#### Caracteristicas:\n",
    "##### acessou_home, acessou_como_funciona, acessou_contato, comprou"
   ]
  },
  {
   "cell_type": "code",
   "execution_count": 34,
   "id": "814c741d-a3db-41d4-b368-83579beb2ed3",
   "metadata": {},
   "outputs": [],
   "source": [
    "import csv\n",
    "\n",
    "def carregar_acessos():\n",
    "    # Lado esquerdo (o que temos) = x\n",
    "    x = []\n",
    "    # Lado direito (o que queremos prever) = y\n",
    "    y = []\n",
    "    # Primeiramente, abrir o arquivo (r, indicar que queremos ler o arquivo também)\n",
    "    arquivo = open('acesso.csv', 'r')\n",
    "    # Ler o arquivo\n",
    "    leitor = csv.reader(arquivo)\n",
    "    # Comando next para pular o cabeçalho\n",
    "    next(leitor)\n",
    "    for acessou_home, acessou_como_funciona, acessou_contato, comprou in leitor:\n",
    "    # Colocando o int para deixar como numeros inteiros pois estava como string os numeros\n",
    "        x.append([int(acessou_home), \n",
    "            int(acessou_como_funciona),\n",
    "            int(acessou_contato)])\n",
    "        y.append(int(comprou))\n",
    "\n",
    "    return x, y"
   ]
  },
  {
   "cell_type": "code",
   "execution_count": 38,
   "id": "6ed24b8a-6559-4c56-aea3-a461b00eaa62",
   "metadata": {},
   "outputs": [
    {
     "name": "stdout",
     "output_type": "stream",
     "text": [
      "90 90 9 9\n",
      "[[1, 1, 0], [1, 1, 0], [1, 1, 0], [1, 1, 0], [1, 1, 0], [1, 0, 1], [1, 1, 0], [1, 0, 1], [1, 1, 0], [1, 0, 1], [1, 1, 0], [1, 0, 1], [0, 0, 1], [0, 0, 1], [0, 0, 1], [0, 0, 1], [0, 0, 1], [0, 1, 0], [0, 0, 1], [0, 1, 0], [0, 0, 1], [0, 1, 0], [0, 0, 1], [0, 1, 0], [1, 0, 1], [1, 1, 1], [1, 1, 1], [1, 0, 1], [0, 1, 0], [0, 0, 1], [0, 1, 0], [1, 0, 1], [0, 0, 1], [1, 0, 1], [1, 0, 1], [1, 0, 1], [1, 0, 1], [0, 0, 1], [1, 1, 0], [1, 0, 1], [0, 1, 0], [0, 0, 1], [0, 1, 0], [1, 0, 1], [0, 0, 1], [0, 0, 1], [1, 0, 1], [1, 0, 1], [1, 1, 0], [1, 1, 0], [1, 1, 0], [1, 1, 0], [1, 0, 1], [1, 1, 0], [1, 0, 1], [1, 1, 0], [1, 0, 1], [1, 1, 0], [1, 0, 1], [0, 0, 1], [1, 0, 1], [0, 1, 0], [0, 0, 1], [0, 1, 0], [1, 0, 1], [0, 1, 1], [0, 0, 1], [1, 0, 1], [1, 0, 1], [1, 1, 0], [1, 1, 0], [0, 0, 1], [0, 0, 1], [0, 0, 1], [0, 0, 1], [0, 1, 0], [0, 0, 1], [0, 1, 0], [0, 0, 1], [1, 1, 0], [0, 0, 1], [0, 0, 1], [0, 0, 1], [1, 0, 1], [1, 0, 1], [1, 1, 0], [1, 1, 0], [0, 0, 1], [0, 0, 1], [1, 0, 1], [1, 0, 1], [1, 1, 0], [1, 1, 0], [0, 0, 1], [0, 0, 1], [1, 1, 1], [0, 0, 1], [0, 1, 0], [0, 0, 0]]\n",
      "[0, 0, 0, 0, 0, 1, 0, 1, 0, 1, 1, 1, 0, 0, 0, 0, 0, 0, 0, 0, 0, 0, 0, 0, 1, 1, 1, 1, 0, 0, 0, 1, 0, 1, 1, 1, 1, 0, 0, 1, 0, 0, 0, 1, 0, 0, 1, 1, 0, 0, 0, 0, 1, 0, 1, 0, 1, 0, 1, 0, 1, 0, 0, 0, 1, 1, 0, 1, 1, 0, 0, 0, 0, 0, 0, 0, 0, 0, 0, 1, 0, 0, 0, 1, 1, 0, 0, 0, 0, 1, 1, 0, 0, 0, 0, 1, 0, 0, 0]\n"
     ]
    }
   ],
   "source": [
    "x, y = carregar_acessos()\n",
    "treino_x = x[:90]\n",
    "treino_y = y[:90]\n",
    "teste_x = x[-9:]\n",
    "teste_y = y[-9:]\n",
    "print(len(treino_x),len(treino_y),len(teste_x),len(teste_y))\n",
    "print(x)\n",
    "print(y)"
   ]
  },
  {
   "cell_type": "code",
   "execution_count": 40,
   "id": "b1607849-0b30-4bae-9141-b3a971ac6504",
   "metadata": {},
   "outputs": [
    {
     "name": "stdout",
     "output_type": "stream",
     "text": [
      "[1 0 0 0 0 0 0 0 0]\n",
      "88.88888888888889\n",
      "9\n"
     ]
    }
   ],
   "source": [
    "from sklearn.naive_bayes import MultinomialNB\n",
    "\n",
    "modelo = MultinomialNB()\n",
    "modelo.fit(treino_x,treino_y)\n",
    "resultado = modelo.predict(teste_x)\n",
    "\n",
    "print(resultado)\n",
    "\n",
    "diferencas = resultado - teste_y\n",
    "acertos = [d for d in diferencas if d == 0]\n",
    "total_de_acertos = len(acertos)\n",
    "total_de_elementos = len(teste_x)\n",
    "taxa_de_acerto = 100*total_de_acertos/total_de_elementos\n",
    "print(taxa_de_acerto)\n",
    "print(total_de_elementos)"
   ]
  },
  {
   "cell_type": "code",
   "execution_count": null,
   "id": "954624e3-3095-40be-9c15-b9859828059a",
   "metadata": {},
   "outputs": [],
   "source": []
  }
 ],
 "metadata": {
  "kernelspec": {
   "display_name": "Python 3",
   "language": "python",
   "name": "python3"
  },
  "language_info": {
   "codemirror_mode": {
    "name": "ipython",
    "version": 3
   },
   "file_extension": ".py",
   "mimetype": "text/x-python",
   "name": "python",
   "nbconvert_exporter": "python",
   "pygments_lexer": "ipython3",
   "version": "3.8.8"
  }
 },
 "nbformat": 4,
 "nbformat_minor": 5
}
