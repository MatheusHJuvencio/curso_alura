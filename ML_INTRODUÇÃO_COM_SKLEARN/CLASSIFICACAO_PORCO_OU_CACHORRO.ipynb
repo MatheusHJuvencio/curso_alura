{
 "cells": [
  {
   "cell_type": "markdown",
   "id": "515b4dea-c241-4546-8ba2-367d3106c36b",
   "metadata": {},
   "source": [
    "### Exercício de classificação com SKLearn\n",
    "#### Classificação entre animais: porco ou cachorro"
   ]
  },
  {
   "cell_type": "code",
   "execution_count": 1,
   "id": "1a68088a-f19c-4e39-b557-056feaf9dc6d",
   "metadata": {},
   "outputs": [],
   "source": [
    "# Features: (1 para sim e 0 para não)\n",
    "# Pelo é curto?\n",
    "# Perna é curta?\n",
    "# Faz \"au-au\"?\n",
    "\n",
    "porco1 = [0, 1, 0]\n",
    "porco2 = [0, 1, 1]\n",
    "porco3 = [1, 1, 0]\n",
    "\n",
    "cachorro1 = [0, 1, 1]\n",
    "cachorro2 = [1, 0, 1]\n",
    "cachorro3 = [1, 1, 1]\n",
    "# Variavél para testes\n",
    "treino_x = [porco1, porco2, porco3, cachorro1, cachorro2, cachorro3]\n",
    "# Classe: 1 para porco e 0 para cachorro (Labels)\n",
    "treino_y = [1,1,1,0,0,0]"
   ]
  },
  {
   "cell_type": "code",
   "execution_count": 2,
   "id": "c74e103a-8635-40cf-a96f-dea01b4c537f",
   "metadata": {},
   "outputs": [
    {
     "data": {
      "text/plain": [
       "LinearSVC()"
      ]
     },
     "execution_count": 2,
     "metadata": {},
     "output_type": "execute_result"
    }
   ],
   "source": [
    "from sklearn.svm import LinearSVC\n",
    "\n",
    "modelo = LinearSVC()\n",
    "modelo.fit(treino_x, treino_y)"
   ]
  },
  {
   "cell_type": "code",
   "execution_count": 3,
   "id": "d8616824-edb1-4513-9e8b-8e9295226cc2",
   "metadata": {},
   "outputs": [
    {
     "data": {
      "text/plain": [
       "array([0])"
      ]
     },
     "execution_count": 3,
     "metadata": {},
     "output_type": "execute_result"
    }
   ],
   "source": [
    "# Previsão de animal misterioso\n",
    "animal_misterioso = [1,1,1]\n",
    "# O predict espera array com varios itens, então, tem que colocar o animal em forma de lista com um item\n",
    "modelo.predict([animal_misterioso])"
   ]
  },
  {
   "cell_type": "code",
   "execution_count": 7,
   "id": "2464d853-5b42-4b2c-86ef-c66c15ab50ea",
   "metadata": {},
   "outputs": [],
   "source": [
    "misterio1 = [1,1,0]\n",
    "misterio2 = [1,0,0]\n",
    "misterio3 = [0,0,1]\n",
    "misterio4 = [1,0,1]\n",
    "\n",
    "testes_x = [misterio1, misterio2, misterio3, misterio4]\n",
    "testes_y = [1,1,0,0]"
   ]
  },
  {
   "cell_type": "code",
   "execution_count": 8,
   "id": "9ee3182d-096a-4264-82a7-b61db4508d5e",
   "metadata": {},
   "outputs": [
    {
     "name": "stdout",
     "output_type": "stream",
     "text": [
      "Taxa de acerto: \n",
      "1.0\n",
      "\n"
     ]
    }
   ],
   "source": [
    "previsoes = modelo.predict(testes_x)\n",
    "corretos = (previsoes == testes_y).sum()\n",
    "total = len(testes_x)\n",
    "taxa_de_acerto = corretos/total\n",
    "print('Taxa de acerto: \\n%s\\n'%taxa_de_acerto)"
   ]
  },
  {
   "cell_type": "code",
   "execution_count": 9,
   "id": "1787952c-bc39-4050-a25c-58be3b59f063",
   "metadata": {},
   "outputs": [
    {
     "name": "stdout",
     "output_type": "stream",
     "text": [
      "Taxa de acerto: \n",
      "1.0\n",
      "\n"
     ]
    }
   ],
   "source": [
    "from sklearn.metrics import accuracy_score\n",
    "taxa_de_acerto = accuracy_score(testes_y, previsoes)\n",
    "print('Taxa de acerto: \\n%s\\n'%taxa_de_acerto)"
   ]
  },
  {
   "cell_type": "code",
   "execution_count": null,
   "id": "2b42cf3c-f241-4d10-bd72-18581c15fa4c",
   "metadata": {},
   "outputs": [],
   "source": []
  }
 ],
 "metadata": {
  "kernelspec": {
   "display_name": "Python 3",
   "language": "python",
   "name": "python3"
  },
  "language_info": {
   "codemirror_mode": {
    "name": "ipython",
    "version": 3
   },
   "file_extension": ".py",
   "mimetype": "text/x-python",
   "name": "python",
   "nbconvert_exporter": "python",
   "pygments_lexer": "ipython3",
   "version": "3.8.8"
  }
 },
 "nbformat": 4,
 "nbformat_minor": 5
}
