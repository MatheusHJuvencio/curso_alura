{
 "cells": [
  {
   "cell_type": "markdown",
   "id": "8badf9a3-590e-45c1-a673-6cf2f97efdc7",
   "metadata": {},
   "source": [
    "### Exercício de classificação com SKLearn\n",
    "#### Lendo dados na internet e manipulando os mesmos"
   ]
  },
  {
   "cell_type": "code",
   "execution_count": 16,
   "id": "0e8293c2-7aff-4b9e-925a-2b672d2ab255",
   "metadata": {},
   "outputs": [
    {
     "data": {
      "text/html": [
       "<div>\n",
       "<style scoped>\n",
       "    .dataframe tbody tr th:only-of-type {\n",
       "        vertical-align: middle;\n",
       "    }\n",
       "\n",
       "    .dataframe tbody tr th {\n",
       "        vertical-align: top;\n",
       "    }\n",
       "\n",
       "    .dataframe thead th {\n",
       "        text-align: right;\n",
       "    }\n",
       "</style>\n",
       "<table border=\"1\" class=\"dataframe\">\n",
       "  <thead>\n",
       "    <tr style=\"text-align: right;\">\n",
       "      <th></th>\n",
       "      <th>home</th>\n",
       "      <th>how_it_works</th>\n",
       "      <th>contact</th>\n",
       "      <th>bought</th>\n",
       "    </tr>\n",
       "  </thead>\n",
       "  <tbody>\n",
       "    <tr>\n",
       "      <th>0</th>\n",
       "      <td>1</td>\n",
       "      <td>1</td>\n",
       "      <td>0</td>\n",
       "      <td>0</td>\n",
       "    </tr>\n",
       "    <tr>\n",
       "      <th>1</th>\n",
       "      <td>1</td>\n",
       "      <td>1</td>\n",
       "      <td>0</td>\n",
       "      <td>0</td>\n",
       "    </tr>\n",
       "    <tr>\n",
       "      <th>2</th>\n",
       "      <td>1</td>\n",
       "      <td>1</td>\n",
       "      <td>0</td>\n",
       "      <td>0</td>\n",
       "    </tr>\n",
       "    <tr>\n",
       "      <th>3</th>\n",
       "      <td>1</td>\n",
       "      <td>1</td>\n",
       "      <td>0</td>\n",
       "      <td>0</td>\n",
       "    </tr>\n",
       "    <tr>\n",
       "      <th>4</th>\n",
       "      <td>1</td>\n",
       "      <td>1</td>\n",
       "      <td>0</td>\n",
       "      <td>0</td>\n",
       "    </tr>\n",
       "  </tbody>\n",
       "</table>\n",
       "</div>"
      ],
      "text/plain": [
       "   home  how_it_works  contact  bought\n",
       "0     1             1        0       0\n",
       "1     1             1        0       0\n",
       "2     1             1        0       0\n",
       "3     1             1        0       0\n",
       "4     1             1        0       0"
      ]
     },
     "execution_count": 16,
     "metadata": {},
     "output_type": "execute_result"
    }
   ],
   "source": [
    "import pandas as pd\n",
    "\n",
    "uri = \"https://gist.githubusercontent.com/guilhermesilveira/2d2efa37d66b6c84a722ea627a897ced/raw/10968b997d885cbded1c92938c7a9912ba41c615/tracking.csv\"\n",
    "dados = pd.read_csv(uri)\n",
    "dados.head()\n"
   ]
  },
  {
   "cell_type": "code",
   "execution_count": 17,
   "id": "3e94dfa6-1d2c-4910-a60a-0bd8d1b91fb4",
   "metadata": {},
   "outputs": [
    {
     "data": {
      "text/html": [
       "<div>\n",
       "<style scoped>\n",
       "    .dataframe tbody tr th:only-of-type {\n",
       "        vertical-align: middle;\n",
       "    }\n",
       "\n",
       "    .dataframe tbody tr th {\n",
       "        vertical-align: top;\n",
       "    }\n",
       "\n",
       "    .dataframe thead th {\n",
       "        text-align: right;\n",
       "    }\n",
       "</style>\n",
       "<table border=\"1\" class=\"dataframe\">\n",
       "  <thead>\n",
       "    <tr style=\"text-align: right;\">\n",
       "      <th></th>\n",
       "      <th>principal</th>\n",
       "      <th>como_funciona</th>\n",
       "      <th>contato</th>\n",
       "      <th>comprou</th>\n",
       "    </tr>\n",
       "  </thead>\n",
       "  <tbody>\n",
       "    <tr>\n",
       "      <th>0</th>\n",
       "      <td>1</td>\n",
       "      <td>1</td>\n",
       "      <td>0</td>\n",
       "      <td>0</td>\n",
       "    </tr>\n",
       "    <tr>\n",
       "      <th>1</th>\n",
       "      <td>1</td>\n",
       "      <td>1</td>\n",
       "      <td>0</td>\n",
       "      <td>0</td>\n",
       "    </tr>\n",
       "    <tr>\n",
       "      <th>2</th>\n",
       "      <td>1</td>\n",
       "      <td>1</td>\n",
       "      <td>0</td>\n",
       "      <td>0</td>\n",
       "    </tr>\n",
       "    <tr>\n",
       "      <th>3</th>\n",
       "      <td>1</td>\n",
       "      <td>1</td>\n",
       "      <td>0</td>\n",
       "      <td>0</td>\n",
       "    </tr>\n",
       "    <tr>\n",
       "      <th>4</th>\n",
       "      <td>1</td>\n",
       "      <td>1</td>\n",
       "      <td>0</td>\n",
       "      <td>0</td>\n",
       "    </tr>\n",
       "  </tbody>\n",
       "</table>\n",
       "</div>"
      ],
      "text/plain": [
       "   principal  como_funciona  contato  comprou\n",
       "0          1              1        0        0\n",
       "1          1              1        0        0\n",
       "2          1              1        0        0\n",
       "3          1              1        0        0\n",
       "4          1              1        0        0"
      ]
     },
     "execution_count": 17,
     "metadata": {},
     "output_type": "execute_result"
    }
   ],
   "source": [
    "# Trocando os nomes das colunas de inglês para português\n",
    "# a titulo de usuabilidade pessoal\n",
    "# Usaremos o mapa para fazer as menções dos novos nomes das colunas\n",
    "# e posteriormente utilizaremos a funçao rename do pandas\n",
    "\n",
    "mapa = {\"home\" : \"principal\",\n",
    "        \"how_it_works\" : \"como_funciona\",\n",
    "        \"contact\" : \"contato\",\n",
    "       \"bought\" : \"comprou\"\n",
    "       }\n",
    "dados = dados.rename(columns = mapa)\n",
    "dados.head()\n",
    "\n"
   ]
  },
  {
   "cell_type": "code",
   "execution_count": 27,
   "id": "8bcdc3bb-2aa8-4bd9-9f1c-3af6a0828570",
   "metadata": {},
   "outputs": [
    {
     "name": "stdout",
     "output_type": "stream",
     "text": [
      "As colunas features são: \n",
      "    principal  como_funciona  contato\n",
      "0           1              1        0\n",
      "1           1              1        0\n",
      "2           1              1        0\n",
      "3           1              1        0\n",
      "4           1              1        0\n",
      "..        ...            ...      ...\n",
      "94          0              0        1\n",
      "95          1              1        1\n",
      "96          0              0        1\n",
      "97          0              1        0\n",
      "98          0              0        0\n",
      "\n",
      "[99 rows x 3 columns]\n",
      "\n",
      "A coluna que gostariamos de prever é: \n",
      "0     0\n",
      "1     0\n",
      "2     0\n",
      "3     0\n",
      "4     0\n",
      "     ..\n",
      "94    0\n",
      "95    1\n",
      "96    0\n",
      "97    0\n",
      "98    0\n",
      "Name: comprou, Length: 99, dtype: int64\n",
      "\n"
     ]
    }
   ],
   "source": [
    "# Iremos separar as três primeiras colunas, pois as mesmas são nosso 'x', no caso, as features, e o a ultima \n",
    "# coluna é oque queremos prever, se comprou ou não\n",
    "# como são várias colunas, tem que estar dentro de um arraym por isso [[]]\n",
    "x = dados[[\"principal\",\"como_funciona\", \"contato\"]]\n",
    "y = dados[\"comprou\"]\n",
    "print('As colunas features são: \\n%s\\n'%x)\n",
    "print('A coluna que gostariamos de prever é: \\n%s\\n'%y)"
   ]
  },
  {
   "cell_type": "code",
   "execution_count": 20,
   "id": "eca46180-d9b8-4b93-a8d1-9cc38fcb0333",
   "metadata": {},
   "outputs": [
    {
     "data": {
      "text/plain": [
       "(99, 4)"
      ]
     },
     "execution_count": 20,
     "metadata": {},
     "output_type": "execute_result"
    }
   ],
   "source": [
    "dados.shape"
   ]
  },
  {
   "cell_type": "code",
   "execution_count": 30,
   "id": "10ac3e62-45e6-4579-9d8e-b6ff2b713282",
   "metadata": {
    "jupyter": {
     "source_hidden": true
    },
    "tags": []
   },
   "outputs": [
    {
     "name": "stdout",
     "output_type": "stream",
     "text": [
      "Treinaremos com 75 elementos e testaremos como 24 elementos\n"
     ]
    }
   ],
   "source": [
    "# como há 99 linhas, pegaremos 75% pra treino e 25% para teste\n",
    "treino_x = x[:75]\n",
    "treino_y = y[:75]\n",
    "teste_x = x[75:]\n",
    "teste_y = y[75:]\n",
    "\n",
    "print('Treinaremos com %d elementos e testaremos como %d elementos' %(len(treino_x), len(teste_x)))"
   ]
  },
  {
   "cell_type": "code",
   "execution_count": 43,
   "id": "fd915c89-d56b-4a48-a82b-d30ea9ac1613",
   "metadata": {},
   "outputs": [
    {
     "name": "stdout",
     "output_type": "stream",
     "text": [
      "A acurácia foi: \n",
      "95.83% \n"
     ]
    }
   ],
   "source": [
    "from sklearn.svm import LinearSVC\n",
    "from sklearn.metrics import accuracy_score\n",
    "modelo = LinearSVC()\n",
    "modelo.fit(treino_x,treino_y)\n",
    "previsoes = modelo.predict(teste_x)\n",
    "\n",
    "acuracia = accuracy_score(teste_y, previsoes)*100\n",
    "print('A acurácia foi: \\n%.2f%% ' %acuracia)"
   ]
  },
  {
   "cell_type": "markdown",
   "id": "94e0d2e3-e34b-4d8b-8dc8-e09f0941dc8d",
   "metadata": {},
   "source": [
    "### Agora utilizando a ferramenta train_test_split"
   ]
  },
  {
   "cell_type": "code",
   "execution_count": 54,
   "id": "d93d8c2b-c8ea-4eb6-bd62-8a00a9026905",
   "metadata": {},
   "outputs": [
    {
     "name": "stdout",
     "output_type": "stream",
     "text": [
      "A acurácia foi: \n",
      "96.00% \n"
     ]
    }
   ],
   "source": [
    "from sklearn.model_selection import train_test_split\n",
    "from sklearn.svm import LinearSVC\n",
    "from sklearn.metrics import accuracy_score\n",
    "# Com a ferramenta train_test_split, toda vez ao rodar o código\n",
    "# numeros aleatórios são escolhidos, isso infere no resultado a cada rodagem \n",
    "# por isso adotado a 'seed' pra definir a ordem dos numeros aleatórios\n",
    "SEED = 20\n",
    "treino_x, teste_x, treino_y, teste_y = train_test_split(x, y, \n",
    "                                                        random_state = 20, \n",
    "                                                        stratify = y,     # O stratify faz com quea proporção de treino e teste seja a mesma, mas seguindo 'y'\n",
    "                                                        test_size = 0.25)\n",
    "modelo = LinearSVC()\n",
    "modelo.fit(treino_x,treino_y)\n",
    "previsoes = modelo.predict(teste_x)\n",
    "\n",
    "acuracia = accuracy_score(teste_y, previsoes)*100\n",
    "print('A acurácia foi: \\n%.2f%% ' %acuracia)"
   ]
  },
  {
   "cell_type": "code",
   "execution_count": 55,
   "id": "989c20b8-9619-4e07-9921-6cd71f7fca5f",
   "metadata": {},
   "outputs": [
    {
     "data": {
      "text/plain": [
       "0    17\n",
       "1     8\n",
       "Name: comprou, dtype: int64"
      ]
     },
     "execution_count": 55,
     "metadata": {},
     "output_type": "execute_result"
    }
   ],
   "source": [
    "teste_y.value_counts()"
   ]
  },
  {
   "cell_type": "code",
   "execution_count": 56,
   "id": "567041a0-74c7-4ada-b7fd-2bd6b6229413",
   "metadata": {},
   "outputs": [
    {
     "data": {
      "text/plain": [
       "0    49\n",
       "1    25\n",
       "Name: comprou, dtype: int64"
      ]
     },
     "execution_count": 56,
     "metadata": {},
     "output_type": "execute_result"
    }
   ],
   "source": [
    "treino_y.value_counts()"
   ]
  },
  {
   "cell_type": "code",
   "execution_count": null,
   "id": "70ea6389-c4b4-454a-bb97-8867e3e483a8",
   "metadata": {},
   "outputs": [],
   "source": []
  }
 ],
 "metadata": {
  "kernelspec": {
   "display_name": "Python 3",
   "language": "python",
   "name": "python3"
  },
  "language_info": {
   "codemirror_mode": {
    "name": "ipython",
    "version": 3
   },
   "file_extension": ".py",
   "mimetype": "text/x-python",
   "name": "python",
   "nbconvert_exporter": "python",
   "pygments_lexer": "ipython3",
   "version": "3.8.8"
  }
 },
 "nbformat": 4,
 "nbformat_minor": 5
}
