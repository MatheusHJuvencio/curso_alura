{
 "cells": [
  {
   "cell_type": "markdown",
   "id": "d82023cd-4b76-4ea9-8400-ae2efbfdeb7a",
   "metadata": {},
   "source": [
    "#### REDES NEURAIS: DEEP LEARNING COM PYTORCH"
   ]
  },
  {
   "cell_type": "code",
   "execution_count": null,
   "id": "933dafb2-829a-46e7-885e-b0b76a73f5a8",
   "metadata": {},
   "outputs": [],
   "source": [
    "import torch\n",
    "x = torch.rand(5, 3)\n",
    "print(x)"
   ]
  },
  {
   "cell_type": "code",
   "execution_count": 2,
   "id": "1f2e02ef-0225-483f-8915-ab6be724ea99",
   "metadata": {},
   "outputs": [
    {
     "name": "stdout",
     "output_type": "stream",
     "text": [
      "torch.float32\n",
      "tensor([[1., 2., 3.],\n",
      "        [4., 5., 6.]])\n",
      "torch.float32\n",
      "tensor([[1., 2., 3.],\n",
      "        [4., 5., 6.]])\n",
      "torch.float64\n",
      "tensor([[1., 2., 3.],\n",
      "        [4., 5., 6.]], dtype=torch.float64)\n",
      "torch.int64\n",
      "tensor([[1, 2, 3],\n",
      "        [4, 5, 6]])\n"
     ]
    }
   ],
   "source": [
    "lista = [[1,2,3],\n",
    "         [4,5,6]]\n",
    "cvt_torch = torch.Tensor(lista)\n",
    "print(cvt_torch.dtype)\n",
    "print(cvt_torch)\n",
    "\n",
    "cvt_torch = torch.FloatTensor(lista)\n",
    "print(cvt_torch.dtype)\n",
    "print(cvt_torch)\n",
    "\n",
    "cvt_torch = torch.DoubleTensor(lista)\n",
    "print(cvt_torch.dtype)\n",
    "print(cvt_torch)\n",
    "\n",
    "cvt_torch = torch.LongTensor(lista)\n",
    "print(cvt_torch.dtype)\n",
    "print(cvt_torch)\n"
   ]
  },
  {
   "cell_type": "code",
   "execution_count": null,
   "id": "5868de29-3fb4-4ff9-ae00-bf35be1f23c0",
   "metadata": {},
   "outputs": [],
   "source": [
    "import torch\n",
    "#Alocando tensor no cuda (mas nao deu certo)\n",
    "tns = torch.randn(10)\n",
    "if torch.cuda.is_available():\n",
    "    device = torch.device('cuda')\n",
    "else:\n",
    "    device = torch.device('cpu')\n",
    "print(device)\n",
    "\n",
    "tns = tns.to(device)\n",
    "print(tns)"
   ]
  },
  {
   "cell_type": "code",
   "execution_count": 4,
   "id": "fb928474-3fc8-4abf-9206-c5e8bd28a960",
   "metadata": {},
   "outputs": [
    {
     "name": "stdout",
     "output_type": "stream",
     "text": [
      "Num GPUs Available:  0\n"
     ]
    }
   ],
   "source": [
    "import tensorflow as tf\n",
    "from tensorflow import keras\n",
    "print(\"Num GPUs Available: \", len(tf.config.experimental.list_physical_devices('GPU')))"
   ]
  },
  {
   "cell_type": "code",
   "execution_count": 5,
   "id": "c8748115-abd9-4f8c-ad8e-32d7ddcb7418",
   "metadata": {},
   "outputs": [
    {
     "data": {
      "text/plain": [
       "False"
      ]
     },
     "execution_count": 5,
     "metadata": {},
     "output_type": "execute_result"
    }
   ],
   "source": [
    "tf.test.is_built_with_cuda()"
   ]
  },
  {
   "cell_type": "code",
   "execution_count": null,
   "id": "d72aaab6-0048-4fa4-8fa8-c39e4155d93e",
   "metadata": {},
   "outputs": [],
   "source": []
  }
 ],
 "metadata": {
  "kernelspec": {
   "display_name": "Python 3",
   "language": "python",
   "name": "python3"
  },
  "language_info": {
   "codemirror_mode": {
    "name": "ipython",
    "version": 3
   },
   "file_extension": ".py",
   "mimetype": "text/x-python",
   "name": "python",
   "nbconvert_exporter": "python",
   "pygments_lexer": "ipython3",
   "version": "3.8.8"
  }
 },
 "nbformat": 4,
 "nbformat_minor": 5
}
